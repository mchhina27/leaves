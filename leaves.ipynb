{
 "cells": [
  {
   "cell_type": "code",
   "execution_count": null,
   "id": "2d6ea9c7-bbd9-43cb-96c3-eb67629d9dad",
   "metadata": {},
   "outputs": [],
   "source": [
    "import zipfile\n",
    "zip_path = r\"C:\\Users\\Mehar Chhina\\OneDrive\\Documents\\PlantVillage.zip\"       \n",
    "extract_path = \"leaf_dataset\"      \n",
    "print(\"✅ All folders and files extracted.\")"
   ]
  },
  {
   "cell_type": "code",
   "execution_count": 3,
   "id": "2d9527b6-fcc1-4db4-8956-c48b487674a3",
   "metadata": {},
   "outputs": [],
   "source": [
    "from tensorflow.keras.preprocessing.image import ImageDataGenerator # this is a rule sheet for what to do when these variables are called\n",
    "IMG_SIZE = (224, 224) # making image and batch size uniform\n",
    "BATCH_SIZE = 32\n",
    "datagen = ImageDataGenerator(\n",
    "    rescale=1./255,         # normalize pixel values to [0, 1]\n",
    "    validation_split=0.2    # split 20% for validation, mock test\n",
    ")"
   ]
  },
  {
   "cell_type": "code",
   "execution_count": 4,
   "id": "0708d04b-34d3-4c6c-9127-cfa49d89eac2",
   "metadata": {},
   "outputs": [
    {
     "name": "stdout",
     "output_type": "stream",
     "text": [
      "Found 49537 images belonging to 16 classes.\n"
     ]
    }
   ],
   "source": [
    "train_data = datagen.flow_from_directory( # training data\n",
    "    \"leaf_dataset\",         \n",
    "    target_size=IMG_SIZE, # calling from rule sheet\n",
    "    batch_size=BATCH_SIZE,\n",
    "    class_mode='categorical',\n",
    "    subset='training'\n",
    ")"
   ]
  },
  {
   "cell_type": "code",
   "execution_count": 5,
   "id": "8d204f1c-bdae-4a9e-be73-4dab7acf8d22",
   "metadata": {},
   "outputs": [
    {
     "name": "stdout",
     "output_type": "stream",
     "text": [
      "Found 12377 images belonging to 16 classes.\n"
     ]
    }
   ],
   "source": [
    "val_data = datagen.flow_from_directory( # validation data\n",
    "\n",
    "    \"leaf_dataset\",\n",
    "    target_size=IMG_SIZE,\n",
    "    batch_size=BATCH_SIZE,\n",
    "    class_mode='categorical',\n",
    "    subset='validation'\n",
    ")"
   ]
  },
  {
   "cell_type": "code",
   "execution_count": 6,
   "id": "437ef87b-4657-41bf-8c3f-b2e140630fd2",
   "metadata": {},
   "outputs": [],
   "source": [
    "from tensorflow.keras import Sequential\n",
    "from tensorflow.keras.layers import Input, Conv2D, MaxPooling2D, Flatten, Dense, Dropout"
   ]
  },
  {
   "cell_type": "code",
   "execution_count": 7,
   "id": "82b506bd-3b08-4e44-a1f2-304fc013c375",
   "metadata": {},
   "outputs": [],
   "source": [
    "model = Sequential([\n",
    "    Input(shape=(224, 224, 3)),                       \n",
    "    Conv2D(32, (3, 3), activation='relu'),\n",
    "    MaxPooling2D(2, 2),\n",
    "\n",
    "    Conv2D(64, (3, 3), activation='relu'),\n",
    "    MaxPooling2D(2, 2),\n",
    "\n",
    "    Conv2D(128, (3, 3), activation='relu'),\n",
    "    MaxPooling2D(2, 2),\n",
    "\n",
    "    Flatten(),\n",
    "    Dense(128, activation='relu'),\n",
    "    Dropout(0.5),\n",
    "    Dense(train_data.num_classes, activation='softmax')\n",
    "])"
   ]
  },
  {
   "cell_type": "code",
   "execution_count": 8,
   "id": "e047a791-b339-4618-a147-38a7bdf8fd6b",
   "metadata": {},
   "outputs": [],
   "source": [
    "model.compile(\n",
    "    optimizer='adam',\n",
    "    loss='categorical_crossentropy',\n",
    "    metrics=['accuracy']\n",
    ")"
   ]
  },
  {
   "cell_type": "code",
   "execution_count": null,
   "id": "9fba5187-8f0c-4071-9d9a-864e69752fce",
   "metadata": {
    "scrolled": true
   },
   "outputs": [
    {
     "name": "stderr",
     "output_type": "stream",
     "text": [
      "C:\\Users\\Mehar Chhina\\anaconda3\\Lib\\site-packages\\keras\\src\\trainers\\data_adapters\\py_dataset_adapter.py:121: UserWarning: Your `PyDataset` class should call `super().__init__(**kwargs)` in its constructor. `**kwargs` can include `workers`, `use_multiprocessing`, `max_queue_size`. Do not pass these arguments to `fit()`, as they will be ignored.\n",
      "  self._warn_if_super_not_called()\n"
     ]
    },
    {
     "name": "stdout",
     "output_type": "stream",
     "text": [
      "Epoch 1/10\n",
      "\u001b[1m1549/1549\u001b[0m \u001b[32m━━━━━━━━━━━━━━━━━━━━\u001b[0m\u001b[37m\u001b[0m \u001b[1m2198s\u001b[0m 1s/step - accuracy: 0.6684 - loss: 1.3064 - val_accuracy: 0.4625 - val_loss: 1.4876\n",
      "Epoch 2/10\n",
      "\u001b[1m1549/1549\u001b[0m \u001b[32m━━━━━━━━━━━━━━━━━━━━\u001b[0m\u001b[37m\u001b[0m \u001b[1m1369s\u001b[0m 883ms/step - accuracy: 0.6782 - loss: 1.0306 - val_accuracy: 0.3822 - val_loss: 1.6357\n",
      "Epoch 3/10\n",
      "\u001b[1m1549/1549\u001b[0m \u001b[32m━━━━━━━━━━━━━━━━━━━━\u001b[0m\u001b[37m\u001b[0m \u001b[1m1859s\u001b[0m 1s/step - accuracy: 0.6828 - loss: 0.9400 - val_accuracy: 0.3637 - val_loss: 1.9487\n",
      "Epoch 4/10\n",
      "\u001b[1m1549/1549\u001b[0m \u001b[32m━━━━━━━━━━━━━━━━━━━━\u001b[0m\u001b[37m\u001b[0m \u001b[1m23286s\u001b[0m 15s/step - accuracy: 0.6848 - loss: 0.8913 - val_accuracy: 0.3205 - val_loss: 2.2721\n",
      "Epoch 5/10\n",
      "\u001b[1m1549/1549\u001b[0m \u001b[32m━━━━━━━━━━━━━━━━━━━━\u001b[0m\u001b[37m\u001b[0m \u001b[1m2741s\u001b[0m 2s/step - accuracy: 0.6866 - loss: 0.8530 - val_accuracy: 0.3313 - val_loss: 2.9107\n",
      "Epoch 6/10\n",
      "\u001b[1m1549/1549\u001b[0m \u001b[32m━━━━━━━━━━━━━━━━━━━━\u001b[0m\u001b[37m\u001b[0m \u001b[1m6705s\u001b[0m 4s/step - accuracy: 0.6885 - loss: 0.8214 - val_accuracy: 0.3241 - val_loss: 2.3711\n",
      "Epoch 7/10\n",
      "\u001b[1m1549/1549\u001b[0m \u001b[32m━━━━━━━━━━━━━━━━━━━━\u001b[0m\u001b[37m\u001b[0m \u001b[1m2164s\u001b[0m 1s/step - accuracy: 0.6903 - loss: 0.7971 - val_accuracy: 0.3055 - val_loss: 4.0188\n",
      "Epoch 8/10\n",
      "\u001b[1m 296/1549\u001b[0m \u001b[32m━━━\u001b[0m\u001b[37m━━━━━━━━━━━━━━━━━\u001b[0m \u001b[1m25:55\u001b[0m 1s/step - accuracy: 0.6963 - loss: 0.7786"
     ]
    }
   ],
   "source": [
    "history = model.fit(\n",
    "    train_data,\n",
    "    validation_data=val_data,\n",
    "    epochs=10\n",
    ")"
   ]
  },
  {
   "cell_type": "code",
   "execution_count": null,
   "id": "e543c651-5cac-4757-8507-79de05ce9d67",
   "metadata": {},
   "outputs": [],
   "source": [
    "loss, acc = model.evaluate(val_data)\n",
    "print(\"Validation Accuracy:\", acc * 100, \"%\")"
   ]
  }
 ],
 "metadata": {
  "kernelspec": {
   "display_name": "Python 3 (ipykernel)",
   "language": "python",
   "name": "python3"
  },
  "language_info": {
   "codemirror_mode": {
    "name": "ipython",
    "version": 3
   },
   "file_extension": ".py",
   "mimetype": "text/x-python",
   "name": "python",
   "nbconvert_exporter": "python",
   "pygments_lexer": "ipython3",
   "version": "3.12.7"
  }
 },
 "nbformat": 4,
 "nbformat_minor": 5
}

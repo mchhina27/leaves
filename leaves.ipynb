{
 "cells": [
  {
   "cell_type": "code",
   "execution_count": 1,
   "id": "2d6ea9c7-bbd9-43cb-96c3-eb67629d9dad",
   "metadata": {},
   "outputs": [
    {
     "name": "stdout",
     "output_type": "stream",
     "text": [
      "All folders and files extracted.\n"
     ]
    }
   ],
   "source": [
    "import zipfile\n",
    "zip_path = r\"C:\\Users\\Mehar Chhina\\OneDrive\\Documents\\PlantVillage.zip\"       \n",
    "extract_path = \"leaf_dataset\"      \n",
    "print(\"All folders and files extracted.\")"
   ]
  },
  {
   "cell_type": "code",
   "execution_count": 11,
   "id": "e413f3e8-04e2-467b-af09-a20228e75b7a",
   "metadata": {},
   "outputs": [],
   "source": [
    "import zipfile\n",
    "import os\n",
    "\n",
    "zip_path = r\"C:\\Users\\Mehar Chhina\\OneDrive\\Documents\\PlantVillage.zip\"\n",
    "extract_path = r\"C:\\Users\\Mehar Chhina\\Documents\\PlantVillage\"\n",
    "\n",
    "with zipfile.ZipFile(zip_path, 'r') as zip_ref:\n",
    "    all_files = zip_ref.namelist()\n",
    "    for file in all_files[:100]:\n",
    "        zip_ref.extract(file, extract_path)"
   ]
  },
  {
   "cell_type": "code",
   "execution_count": 12,
   "id": "2d9527b6-fcc1-4db4-8956-c48b487674a3",
   "metadata": {},
   "outputs": [
    {
     "name": "stdout",
     "output_type": "stream",
     "text": [
      "Found 79 images belonging to 1 classes.\n",
      "Found 19 images belonging to 1 classes.\n"
     ]
    }
   ],
   "source": [
    "datagen = ImageDataGenerator(\n",
    "    rescale=1./255,\n",
    "    validation_split=0.2\n",
    ")\n",
    "\n",
    "train_data = datagen.flow_from_directory(\n",
    "    extract_path,\n",
    "    target_size=IMG_SIZE,\n",
    "    batch_size=BATCH_SIZE,\n",
    "    class_mode='categorical',\n",
    "    subset='training'\n",
    ")\n",
    "\n",
    "validation_data = datagen.flow_from_directory(\n",
    "    extract_path,\n",
    "    target_size=IMG_SIZE,\n",
    "    batch_size=BATCH_SIZE,\n",
    "    class_mode='categorical',\n",
    "    subset='validation'\n",
    ")\n"
   ]
  },
  {
   "cell_type": "code",
   "execution_count": 13,
   "id": "0708d04b-34d3-4c6c-9127-cfa49d89eac2",
   "metadata": {},
   "outputs": [
    {
     "name": "stdout",
     "output_type": "stream",
     "text": [
      "Found 49537 images belonging to 16 classes.\n"
     ]
    }
   ],
   "source": [
    "train_data = datagen.flow_from_directory( # training data\n",
    "    \"leaf_dataset\",         \n",
    "    target_size=IMG_SIZE, # calling from rule sheet\n",
    "    batch_size=BATCH_SIZE,\n",
    "    class_mode='categorical',\n",
    "    subset='training'\n",
    ")"
   ]
  },
  {
   "cell_type": "code",
   "execution_count": 14,
   "id": "8d204f1c-bdae-4a9e-be73-4dab7acf8d22",
   "metadata": {},
   "outputs": [
    {
     "name": "stdout",
     "output_type": "stream",
     "text": [
      "Found 12377 images belonging to 16 classes.\n"
     ]
    }
   ],
   "source": [
    "val_data = datagen.flow_from_directory( # validation data\n",
    "\n",
    "    \"leaf_dataset\",\n",
    "    target_size=IMG_SIZE,\n",
    "    batch_size=BATCH_SIZE,\n",
    "    class_mode='categorical',\n",
    "    subset='validation'\n",
    ")\n"
   ]
  },
  {
   "cell_type": "code",
   "execution_count": 15,
   "id": "437ef87b-4657-41bf-8c3f-b2e140630fd2",
   "metadata": {},
   "outputs": [],
   "source": [
    "from tensorflow.keras import Sequential\n",
    "from tensorflow.keras.layers import Input, Conv2D, MaxPooling2D, Flatten, Dense, Dropout"
   ]
  },
  {
   "cell_type": "code",
   "execution_count": 17,
   "id": "d0229e95-ddd9-47a4-8970-701549a7fb5d",
   "metadata": {},
   "outputs": [
    {
     "name": "stdout",
     "output_type": "stream",
     "text": [
      "Number of classes: 16\n"
     ]
    }
   ],
   "source": [
    "num_classes = len(train_data.class_indices)\n",
    "print(f\"Number of classes: {num_classes}\")"
   ]
  },
  {
   "cell_type": "code",
   "execution_count": 18,
   "id": "82b506bd-3b08-4e44-a1f2-304fc013c375",
   "metadata": {},
   "outputs": [],
   "source": [
    "from tensorflow.keras.models import Sequential\n",
    "from tensorflow.keras.layers import Input, Conv2D, MaxPooling2D, Flatten, Dense, Dropout\n",
    "\n",
    "model = Sequential([\n",
    "    Input(shape=(224, 224, 3)),\n",
    "    Conv2D(32, (3, 3), activation='relu'),\n",
    "    MaxPooling2D(2, 2),\n",
    "\n",
    "    Conv2D(64, (3, 3), activation='relu'),\n",
    "    MaxPooling2D(2, 2),\n",
    "\n",
    "    Conv2D(128, (3, 3), activation='relu'),\n",
    "    MaxPooling2D(2, 2),\n",
    "\n",
    "    Flatten(),\n",
    "    Dense(128, activation='relu'),\n",
    "    Dropout(0.5),\n",
    "    Dense(num_classes, activation='softmax')\n",
    "])\n"
   ]
  },
  {
   "cell_type": "code",
   "execution_count": 19,
   "id": "e047a791-b339-4618-a147-38a7bdf8fd6b",
   "metadata": {},
   "outputs": [],
   "source": [
    "model.compile(\n",
    "    optimizer='adam',\n",
    "    loss='categorical_crossentropy',\n",
    "    metrics=['accuracy']\n",
    ")"
   ]
  },
  {
   "cell_type": "code",
   "execution_count": 20,
   "id": "9fba5187-8f0c-4071-9d9a-864e69752fce",
   "metadata": {
    "scrolled": true
   },
   "outputs": [
    {
     "name": "stdout",
     "output_type": "stream",
     "text": [
      "Epoch 1/10\n"
     ]
    },
    {
     "name": "stderr",
     "output_type": "stream",
     "text": [
      "C:\\Users\\Mehar Chhina\\anaconda3\\Lib\\site-packages\\keras\\src\\trainers\\data_adapters\\py_dataset_adapter.py:121: UserWarning: Your `PyDataset` class should call `super().__init__(**kwargs)` in its constructor. `**kwargs` can include `workers`, `use_multiprocessing`, `max_queue_size`. Do not pass these arguments to `fit()`, as they will be ignored.\n",
      "  self._warn_if_super_not_called()\n"
     ]
    },
    {
     "name": "stdout",
     "output_type": "stream",
     "text": [
      "\u001b[1m1549/1549\u001b[0m \u001b[32m━━━━━━━━━━━━━━━━━━━━\u001b[0m\u001b[37m\u001b[0m \u001b[1m502s\u001b[0m 324ms/step - accuracy: 0.6680 - loss: 1.2286 - val_accuracy: 0.4656 - val_loss: 1.4133\n",
      "Epoch 2/10\n",
      "\u001b[1m1549/1549\u001b[0m \u001b[32m━━━━━━━━━━━━━━━━━━━━\u001b[0m\u001b[37m\u001b[0m \u001b[1m504s\u001b[0m 326ms/step - accuracy: 0.6796 - loss: 0.9724 - val_accuracy: 0.3949 - val_loss: 1.5709\n",
      "Epoch 3/10\n",
      "\u001b[1m1549/1549\u001b[0m \u001b[32m━━━━━━━━━━━━━━━━━━━━\u001b[0m\u001b[37m\u001b[0m \u001b[1m514s\u001b[0m 332ms/step - accuracy: 0.6848 - loss: 0.8819 - val_accuracy: 0.3570 - val_loss: 1.7885\n",
      "Epoch 4/10\n",
      "\u001b[1m1549/1549\u001b[0m \u001b[32m━━━━━━━━━━━━━━━━━━━━\u001b[0m\u001b[37m\u001b[0m \u001b[1m504s\u001b[0m 325ms/step - accuracy: 0.6892 - loss: 0.8264 - val_accuracy: 0.2918 - val_loss: 2.9509\n",
      "Epoch 5/10\n",
      "\u001b[1m1549/1549\u001b[0m \u001b[32m━━━━━━━━━━━━━━━━━━━━\u001b[0m\u001b[37m\u001b[0m \u001b[1m479s\u001b[0m 309ms/step - accuracy: 0.6893 - loss: 0.7943 - val_accuracy: 0.3117 - val_loss: 2.8540\n",
      "Epoch 6/10\n",
      "\u001b[1m1549/1549\u001b[0m \u001b[32m━━━━━━━━━━━━━━━━━━━━\u001b[0m\u001b[37m\u001b[0m \u001b[1m574s\u001b[0m 371ms/step - accuracy: 0.6914 - loss: 0.7682 - val_accuracy: 0.3006 - val_loss: 3.9622\n",
      "Epoch 7/10\n",
      "\u001b[1m1549/1549\u001b[0m \u001b[32m━━━━━━━━━━━━━━━━━━━━\u001b[0m\u001b[37m\u001b[0m \u001b[1m858s\u001b[0m 554ms/step - accuracy: 0.6909 - loss: 0.7836 - val_accuracy: 0.3086 - val_loss: 4.4189\n",
      "Epoch 8/10\n",
      "\u001b[1m1549/1549\u001b[0m \u001b[32m━━━━━━━━━━━━━━━━━━━━\u001b[0m\u001b[37m\u001b[0m \u001b[1m562s\u001b[0m 363ms/step - accuracy: 0.6927 - loss: 0.7441 - val_accuracy: 0.3197 - val_loss: 2.8910\n",
      "Epoch 9/10\n",
      "\u001b[1m1549/1549\u001b[0m \u001b[32m━━━━━━━━━━━━━━━━━━━━\u001b[0m\u001b[37m\u001b[0m \u001b[1m744s\u001b[0m 480ms/step - accuracy: 0.6941 - loss: 0.7298 - val_accuracy: 0.2686 - val_loss: 3.2490\n",
      "Epoch 10/10\n",
      "\u001b[1m1549/1549\u001b[0m \u001b[32m━━━━━━━━━━━━━━━━━━━━\u001b[0m\u001b[37m\u001b[0m \u001b[1m648s\u001b[0m 418ms/step - accuracy: 0.6932 - loss: 0.7179 - val_accuracy: 0.2895 - val_loss: 4.5908\n"
     ]
    }
   ],
   "source": [
    "history = model.fit(\n",
    "    train_data,\n",
    "    validation_data=val_data,\n",
    "    epochs=10\n",
    ")"
   ]
  },
  {
   "cell_type": "code",
   "execution_count": 21,
   "id": "e543c651-5cac-4757-8507-79de05ce9d67",
   "metadata": {},
   "outputs": [
    {
     "name": "stdout",
     "output_type": "stream",
     "text": [
      "\u001b[1m387/387\u001b[0m \u001b[32m━━━━━━━━━━━━━━━━━━━━\u001b[0m\u001b[37m\u001b[0m \u001b[1m42s\u001b[0m 107ms/step - accuracy: 0.2895 - loss: 4.5908\n",
      "Validation Accuracy: 28.94885540008545 %\n"
     ]
    }
   ],
   "source": [
    "loss, acc = model.evaluate(val_data)\n",
    "print(\"Validation Accuracy:\", acc * 100, \"%\")"
   ]
  },
  {
   "cell_type": "code",
   "execution_count": null,
   "id": "b28b9cf1-83d2-454f-a59f-07d178401078",
   "metadata": {},
   "outputs": [],
   "source": []
  }
 ],
 "metadata": {
  "kernelspec": {
   "display_name": "Python 3 (ipykernel)",
   "language": "python",
   "name": "python3"
  },
  "language_info": {
   "codemirror_mode": {
    "name": "ipython",
    "version": 3
   },
   "file_extension": ".py",
   "mimetype": "text/x-python",
   "name": "python",
   "nbconvert_exporter": "python",
   "pygments_lexer": "ipython3",
   "version": "3.12.7"
  }
 },
 "nbformat": 4,
 "nbformat_minor": 5
}
